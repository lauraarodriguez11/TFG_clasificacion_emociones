{
 "cells": [
  {
   "cell_type": "markdown",
   "metadata": {},
   "source": [
    "## Librerías"
   ]
  },
  {
   "cell_type": "code",
   "execution_count": 1,
   "metadata": {},
   "outputs": [],
   "source": [
    "# Tratamiento de datos\n",
    "# ==============================================================================\n",
    "import pandas as pd\n",
    "import numpy as np\n",
    "import re\n",
    "import spacy\n",
    "from tqdm import tqdm\n",
    "nlp = spacy.load('es_core_news_sm')\n",
    "import emoji\n",
    "\n",
    "# Gráficos\n",
    "# ==============================================================================\n",
    "import matplotlib.pyplot as plt\n",
    "#import seaborn as sns\n",
    "import itertools\n",
    "\n",
    "# Preprocesado y modelado\n",
    "# ==============================================================================\n",
    "#from sklearn import svm\n",
    "from sklearn.feature_extraction.text import TfidfVectorizer\n",
    "from sklearn.naive_bayes import MultinomialNB, BernoulliNB\n",
    "from sklearn.svm import SVC\n",
    "from sklearn.ensemble import RandomForestClassifier\n",
    "\n",
    "# Benchmark\n",
    "# ==============================================================================\n",
    "from sklearn.metrics import accuracy_score, f1_score, precision_score, recall_score\n",
    "from sklearn.metrics import classification_report, confusion_matrix\n",
    "\n",
    "# Configuración warnings\n",
    "# ==============================================================================\n",
    "import warnings\n",
    "warnings.filterwarnings('ignore')\n",
    "\n",
    "# Exportación e importación \n",
    "# ==============================================================================\n",
    "import pickle"
   ]
  },
  {
   "cell_type": "markdown",
   "metadata": {},
   "source": [
    "## Carga de Datos"
   ]
  },
  {
   "cell_type": "code",
   "execution_count": 2,
   "metadata": {},
   "outputs": [
    {
     "name": "stdout",
     "output_type": "stream",
     "text": [
      "Número de Tweets_train a procesar: 5723\n",
      "Número de Tweets_dev a procesar: 844\n",
      "Número de Tweets_test a procesar: 1656\n",
      "Número de datos en test_gold: 1656\n"
     ]
    }
   ],
   "source": [
    "# Leemos el fichero y lo pasamos a un DataFrame\n",
    "tweets_train = pd.read_csv('./data/emoevales_train.tsv', sep='\\t+')\n",
    "tweets_dev = pd.read_csv('./data/emoevales_dev.tsv', sep='\\t+')\n",
    "tweets_test = pd.read_csv('./data/emoevales_test.tsv', sep='\\t+')\n",
    "test_gold = pd.read_csv('./data/emoevales_test_gold.tsv', sep='\\t+')\n",
    "\n",
    "# Eliminamos los tweets que tengan algún valor nulo\n",
    "tweets_train = tweets_train.dropna()\n",
    "#print('Número de Tweets_train Cargados: {num}'.format(num=tweets_train.shape[0]))\n",
    "tweets_dev = tweets_dev.dropna()\n",
    "#print('Número de Tweets_dev Cargados: {num}'.format(num=tweets_dev.shape[0]))\n",
    "tweets_test = tweets_test.dropna()\n",
    "#print('Número de Tweets_test Cargados: {num}'.format(num=tweets_test.shape[0]))\n",
    "\n",
    "# Mostramos un sample y el número de tweets a procesar\n",
    "print('Número de Tweets_train a procesar: {num}'.format(num=tweets_train.shape[0]))\n",
    "print('Número de Tweets_dev a procesar: {num}'.format(num=tweets_dev.shape[0]))\n",
    "print('Número de Tweets_test a procesar: {num}'.format(num=tweets_test.shape[0]))\n",
    "print('Número de datos en test_gold: {num}'.format(num=test_gold.shape[0]))"
   ]
  },
  {
   "cell_type": "markdown",
   "metadata": {},
   "source": [
    "## Limpieza y normalización de el dataset"
   ]
  },
  {
   "cell_type": "code",
   "execution_count": 3,
   "metadata": {},
   "outputs": [],
   "source": [
    "def limpiar(texto): \n",
    "    # Se convierte todo el texto a minúsculas\n",
    "    nuevo_texto = texto.lower()\n",
    "    # Cambiar emojis por su significado textual \n",
    "    nuevo_texto = emoji.demojize(nuevo_texto, language='es')\n",
    "    # Eliminación de páginas web (palabras que empiezan por \"http\")\n",
    "    nuevo_texto = re.sub('http\\S+', ' ', nuevo_texto)\n",
    "    # Eliminación de usuarios\n",
    "    nuevo_texto = re.sub('user', ' ', nuevo_texto)\n",
    "    # Eliminación de signos de puntuación\n",
    "    regex = '[\\\\!\\\\¡\\\\\"\\\\#\\\\$\\\\%\\\\&\\\\\\'\\\\(\\\\)\\\\*\\\\+\\\\,\\\\-\\\\.\\\\/\\\\:\\\\;\\\\<\\\\=\\\\>\\\\?\\\\¿\\\\@\\\\[\\\\\\\\\\\\]\\\\^_\\\\`\\\\{\\\\|\\\\}\\\\~]'\n",
    "    nuevo_texto = re.sub(regex , ' ', nuevo_texto)\n",
    "    # Eliminación de números\n",
    "    nuevo_texto = re.sub(\"\\d+\", ' ', nuevo_texto)\n",
    "    # Eliminación de espacios en blanco múltiples\n",
    "    nuevo_texto = re.sub(\"\\\\s+\", ' ', nuevo_texto)\n",
    "    return nuevo_texto"
   ]
  },
  {
   "cell_type": "code",
   "execution_count": 4,
   "metadata": {},
   "outputs": [],
   "source": [
    "# Se aplica la función de limpieza a cada tweet\n",
    "# ==============================================================================\n",
    "tweets_train['tweet_n'] = tweets_train['tweet'].apply(lambda x: limpiar(x))\n",
    "tweets_dev['tweet_n'] = tweets_dev['tweet'].apply(lambda x: limpiar(x))\n",
    "tweets_test['tweet_n'] = tweets_test['tweet'].apply(lambda x: limpiar(x))"
   ]
  },
  {
   "cell_type": "code",
   "execution_count": 5,
   "metadata": {},
   "outputs": [],
   "source": [
    "tweets_train = [list(x) for x in tweets_train[['tweet_n', 'emotion']].values]\n",
    "tweets_dev = [list(x) for x in tweets_dev[['tweet_n', 'emotion']].values]\n",
    "tweets_test = [list(x) for x in tweets_test[['tweet_n']].values]\n",
    "test_gold = test_gold.values.tolist()"
   ]
  },
  {
   "cell_type": "code",
   "execution_count": 6,
   "metadata": {},
   "outputs": [
    {
     "name": "stderr",
     "output_type": "stream",
     "text": [
      "100%|██████████| 5723/5723 [01:21<00:00, 70.25it/s] \n",
      "100%|██████████| 844/844 [00:04<00:00, 209.02it/s]\n",
      "1656it [00:10, 159.36it/s]\n"
     ]
    }
   ],
   "source": [
    "def normalizar(tweets, min_words=2):\n",
    "    \"\"\"\n",
    "    Función que dada una lista de tweets ([tweet, clase]), normaliza los tweets y devuelve una lista\n",
    "    con los tweets normalizados, descartando aquellos tweets que tras la normalización tengan menos de\n",
    "    \"min_words\" palabras en el tweet.\n",
    "    \"\"\"\n",
    "\n",
    "    tweets_list = []\n",
    "    for tweet in tqdm(tweets):\n",
    "        # Tokenizamos el tweet realizando los puntos 1,2 y 3.\n",
    "        tw = nlp(tweet[0].lower().replace('.', ' ').replace('#', ' ').strip())\n",
    "        \n",
    "        # Normalizamos Puntos 4,5,6,7 y 8\n",
    "        tw = ([word.lemma_ for word in tw if (not word.is_punct)\n",
    "               and (len(word.text) > 2) and (not word.is_stop)\n",
    "               #and (not word.text.startswith('@'))\n",
    "               and (not word.text.startswith('https://'))\n",
    "               and (not ':' in word.text)])\n",
    "        \n",
    "        # Eliminamos los tweets que tras la normalización tengan menos de \"min_words\" palabras\n",
    "        if len(tw) >= min_words:\n",
    "            tweets_list.append([\" \".join(tw), tweet[1]])\n",
    "    return tweets_list\n",
    "\n",
    "def normalizar_test(tweets, emotions, min_words=2):\n",
    "    \"\"\" \n",
    "    Función que dada una lista de tweets ([tweet]) y una lista de etiquetas ([clase]), \n",
    "    normaliza los tweets y devuelve ambas listas con los tweets normalizados, \n",
    "    descartando aquellos tweets (y etiquetas respectivas) que tras la normalización \n",
    "    tengan menos de \"min_words\" palabras en el tweet. \n",
    "    \"\"\"\n",
    "\n",
    "    tweets_list = []\n",
    "    emotions_list = []\n",
    "    for i, tweet in tqdm(enumerate(tweets)):\n",
    "        # Tokenizamos el tweet realizando los puntos 1,2 y 3.\n",
    "        tw = nlp(tweet[0].lower().replace('.', ' ').replace('#', ' ').strip())\n",
    "        \n",
    "        # Normalizamos Puntos 4,5,6,7 y 8\n",
    "        tw = ([word.lemma_ for word in tw if (not word.is_punct)\n",
    "               and (len(word.text) > 2) and (not word.is_stop)\n",
    "               #and (not word.text.startswith('@'))\n",
    "               and (not word.text.startswith('https://'))\n",
    "               and (not ':' in word.text)])\n",
    "        \n",
    "        # Eliminamos los tweets que tras la normalización tengan menos de \"min_words\" palabras\n",
    "        if len(tw) >= min_words:\n",
    "            tweets_list.append([\" \".join(tw)])\n",
    "            emotions_list.append(emotions[i][1])\n",
    "    return tweets_list, emotions_list\n",
    "\n",
    "# Normalizamos las frases\n",
    "X_norm_train = normalizar(tweets_train)\n",
    "X_norm_dev = normalizar(tweets_dev)\n",
    "X_norm_test, y_test_gold = normalizar_test(tweets_test, test_gold)"
   ]
  },
  {
   "cell_type": "markdown",
   "metadata": {},
   "source": [
    "### ..."
   ]
  },
  {
   "cell_type": "code",
   "execution_count": 7,
   "metadata": {},
   "outputs": [],
   "source": [
    "#Guardado de los tweets normalizados en un fichero binario\n",
    "\n",
    "filename = './models/normalized_train_tweets_string.pickle'\n",
    "save_list = open(filename,\"wb\")\n",
    "pickle.dump(X_norm_train, save_list)\n",
    "save_list.close()\n",
    "\n",
    "filename = './models/normalized_dev_tweets_string.pickle'\n",
    "save_list = open(filename,\"wb\")\n",
    "pickle.dump(X_norm_dev, save_list)\n",
    "save_list.close()\n",
    "\n",
    "filename = './models/normalized_test_tweets_string.pickle'\n",
    "save_list = open(filename,\"wb\")\n",
    "pickle.dump(X_norm_test, save_list)\n",
    "save_list.close()\n",
    "\n",
    "filename = './models/gold_test_string.pickle'\n",
    "save_list = open(filename,\"wb\")\n",
    "pickle.dump(y_test_gold, save_list)\n",
    "save_list.close()"
   ]
  },
  {
   "cell_type": "code",
   "execution_count": 8,
   "metadata": {},
   "outputs": [],
   "source": [
    "#Lectura de los tweets normalizados de un fichero binario\n",
    "\n",
    "filename = './models/normalized_train_tweets_string.pickle'\n",
    "X_norm_train = pickle.load(open(filename, 'rb'))\n",
    "\n",
    "filename = './models/normalized_dev_tweets_string.pickle'\n",
    "X_norm_dev = pickle.load(open(filename, 'rb'))\n",
    "\n",
    "filename = './models/normalized_test_tweets_string.pickle'\n",
    "X_norm_test = pickle.load(open(filename, 'rb'))\n",
    "\n",
    "#¿Tengo que leer también el archivo gold_test_string si no contiene tweets sino etiquetas?"
   ]
  },
  {
   "cell_type": "markdown",
   "metadata": {},
   "source": [
    "## Extracción de características (Bolsa de palabras)"
   ]
  },
  {
   "cell_type": "code",
   "execution_count": 9,
   "metadata": {},
   "outputs": [],
   "source": [
    "#El particionado de datos ya está hecho\n",
    "#pero hay que crear el diccionario de palabras\n",
    "\n",
    "# Divido los datos en dos listas \n",
    "#     X: los tweets\n",
    "#     y: target (polaridad)\n",
    "\n",
    "X_train = [doc[0] for doc in X_norm_train]\n",
    "y_train = np.array([doc[1] for doc in X_norm_train])\n",
    "\n",
    "X_dev = [doc[0] for doc in X_norm_dev]\n",
    "y_dev = np.array([doc[1] for doc in X_norm_dev])\n",
    "\n",
    "# Pasamos los tweets normalizados a Bolsa de palabras\n",
    "vectorizer = TfidfVectorizer(max_features=1500)\n",
    "vectorizer.fit(X_train)\n",
    "X_train = vectorizer.transform(X_train) \n",
    "X_dev = vectorizer.transform(X_dev)"
   ]
  },
  {
   "cell_type": "markdown",
   "metadata": {},
   "source": [
    "# Creación del modelo"
   ]
  },
  {
   "cell_type": "code",
   "execution_count": 10,
   "metadata": {},
   "outputs": [
    {
     "name": "stdout",
     "output_type": "stream",
     "text": [
      "CREANDO MODELO: Multinomial NB\n",
      "CREANDO MODELO: Bernoulli NB\n",
      "CREANDO MODELO: SVM lineal\n",
      "CREANDO MODELO: SVM polinomico\n",
      "CREANDO MODELO: SVM Kernel rbf\n",
      "CREANDO MODELO: SVM Kernel Sigmoid\n",
      "CREANDO MODELO: Random Forest d_20\n",
      "CREANDO MODELO: Random Forest d_50\n"
     ]
    }
   ],
   "source": [
    "mnb = MultinomialNB()\n",
    "bnb = BernoulliNB()\n",
    "svm_lin = SVC(kernel='linear')\n",
    "svm_poly = SVC(kernel='poly')\n",
    "svm_rbf = SVC(kernel='rbf')\n",
    "svm_sig = SVC(kernel='sigmoid')\n",
    "rf_20 = RandomForestClassifier(n_estimators=500, bootstrap=True, criterion='gini', max_depth=20, random_state=0)\n",
    "rf_50 = RandomForestClassifier(n_estimators=500, bootstrap=True, criterion='gini', max_depth=50, random_state=0)\n",
    "\n",
    "clasificadores = {'Multinomial NB': mnb,\n",
    "                  'Bernoulli NB': bnb,\n",
    "                  'SVM lineal': svm_lin,\n",
    "                  'SVM polinomico': svm_poly,\n",
    "                  'SVM Kernel rbf': svm_rbf,\n",
    "                  'SVM Kernel Sigmoid': svm_sig,\n",
    "                  'Random Forest d_20': rf_20,\n",
    "                  'Random Forest d_50': rf_50}\n",
    "\n",
    "\n",
    "# Ajustamos los modelos\n",
    "for k, v in clasificadores.items():\n",
    "    print ('CREANDO MODELO: {clas}'.format(clas=k))\n",
    "    model = {}\n",
    "    model['name'] = k\n",
    "    # Entrenamiento\n",
    "    v.fit(X_train, y_train)"
   ]
  },
  {
   "cell_type": "markdown",
   "metadata": {},
   "source": [
    "# Evaluación del modelo"
   ]
  },
  {
   "cell_type": "code",
   "execution_count": 11,
   "metadata": {},
   "outputs": [
    {
     "data": {
      "text/html": [
       "<div>\n",
       "<style scoped>\n",
       "    .dataframe tbody tr th:only-of-type {\n",
       "        vertical-align: middle;\n",
       "    }\n",
       "\n",
       "    .dataframe tbody tr th {\n",
       "        vertical-align: top;\n",
       "    }\n",
       "\n",
       "    .dataframe thead th {\n",
       "        text-align: right;\n",
       "    }\n",
       "</style>\n",
       "<table border=\"1\" class=\"dataframe\">\n",
       "  <thead>\n",
       "    <tr style=\"text-align: right;\">\n",
       "      <th></th>\n",
       "      <th>accuracy_train</th>\n",
       "      <th>accuracy_dev</th>\n",
       "      <th>precision_train</th>\n",
       "      <th>precision_dev</th>\n",
       "      <th>recall_train</th>\n",
       "      <th>recall_dev</th>\n",
       "      <th>f1_train</th>\n",
       "      <th>f1_dev</th>\n",
       "    </tr>\n",
       "    <tr>\n",
       "      <th>name</th>\n",
       "      <th></th>\n",
       "      <th></th>\n",
       "      <th></th>\n",
       "      <th></th>\n",
       "      <th></th>\n",
       "      <th></th>\n",
       "      <th></th>\n",
       "      <th></th>\n",
       "    </tr>\n",
       "  </thead>\n",
       "  <tbody>\n",
       "    <tr>\n",
       "      <th>Multinomial NB</th>\n",
       "      <td>0.668007</td>\n",
       "      <td>0.598341</td>\n",
       "      <td>0.687751</td>\n",
       "      <td>0.572453</td>\n",
       "      <td>0.668007</td>\n",
       "      <td>0.598341</td>\n",
       "      <td>0.623474</td>\n",
       "      <td>0.541035</td>\n",
       "    </tr>\n",
       "    <tr>\n",
       "      <th>Bernoulli NB</th>\n",
       "      <td>0.660839</td>\n",
       "      <td>0.611374</td>\n",
       "      <td>0.662076</td>\n",
       "      <td>0.591342</td>\n",
       "      <td>0.660839</td>\n",
       "      <td>0.611374</td>\n",
       "      <td>0.651552</td>\n",
       "      <td>0.600853</td>\n",
       "    </tr>\n",
       "    <tr>\n",
       "      <th>SVM lineal</th>\n",
       "      <td>0.737413</td>\n",
       "      <td>0.646919</td>\n",
       "      <td>0.764579</td>\n",
       "      <td>0.680056</td>\n",
       "      <td>0.737413</td>\n",
       "      <td>0.646919</td>\n",
       "      <td>0.714087</td>\n",
       "      <td>0.614301</td>\n",
       "    </tr>\n",
       "    <tr>\n",
       "      <th>SVM polinomico</th>\n",
       "      <td>0.969755</td>\n",
       "      <td>0.546209</td>\n",
       "      <td>0.970771</td>\n",
       "      <td>0.581763</td>\n",
       "      <td>0.969755</td>\n",
       "      <td>0.546209</td>\n",
       "      <td>0.968954</td>\n",
       "      <td>0.451297</td>\n",
       "    </tr>\n",
       "    <tr>\n",
       "      <th>SVM Kernel rbf</th>\n",
       "      <td>0.843182</td>\n",
       "      <td>0.639810</td>\n",
       "      <td>0.867477</td>\n",
       "      <td>0.635863</td>\n",
       "      <td>0.843182</td>\n",
       "      <td>0.639810</td>\n",
       "      <td>0.829672</td>\n",
       "      <td>0.590291</td>\n",
       "    </tr>\n",
       "    <tr>\n",
       "      <th>SVM Kernel Sigmoid</th>\n",
       "      <td>0.676224</td>\n",
       "      <td>0.655213</td>\n",
       "      <td>0.699565</td>\n",
       "      <td>0.695011</td>\n",
       "      <td>0.676224</td>\n",
       "      <td>0.655213</td>\n",
       "      <td>0.641591</td>\n",
       "      <td>0.618338</td>\n",
       "    </tr>\n",
       "    <tr>\n",
       "      <th>Random Forest d_20</th>\n",
       "      <td>0.638112</td>\n",
       "      <td>0.574645</td>\n",
       "      <td>0.774749</td>\n",
       "      <td>0.527303</td>\n",
       "      <td>0.638112</td>\n",
       "      <td>0.574645</td>\n",
       "      <td>0.566416</td>\n",
       "      <td>0.468850</td>\n",
       "    </tr>\n",
       "    <tr>\n",
       "      <th>Random Forest d_50</th>\n",
       "      <td>0.811888</td>\n",
       "      <td>0.623223</td>\n",
       "      <td>0.863848</td>\n",
       "      <td>0.660156</td>\n",
       "      <td>0.811888</td>\n",
       "      <td>0.623223</td>\n",
       "      <td>0.801390</td>\n",
       "      <td>0.560508</td>\n",
       "    </tr>\n",
       "  </tbody>\n",
       "</table>\n",
       "</div>"
      ],
      "text/plain": [
       "                    accuracy_train  accuracy_dev  precision_train  \\\n",
       "name                                                                \n",
       "Multinomial NB            0.668007      0.598341         0.687751   \n",
       "Bernoulli NB              0.660839      0.611374         0.662076   \n",
       "SVM lineal                0.737413      0.646919         0.764579   \n",
       "SVM polinomico            0.969755      0.546209         0.970771   \n",
       "SVM Kernel rbf            0.843182      0.639810         0.867477   \n",
       "SVM Kernel Sigmoid        0.676224      0.655213         0.699565   \n",
       "Random Forest d_20        0.638112      0.574645         0.774749   \n",
       "Random Forest d_50        0.811888      0.623223         0.863848   \n",
       "\n",
       "                    precision_dev  recall_train  recall_dev  f1_train  \\\n",
       "name                                                                    \n",
       "Multinomial NB           0.572453      0.668007    0.598341  0.623474   \n",
       "Bernoulli NB             0.591342      0.660839    0.611374  0.651552   \n",
       "SVM lineal               0.680056      0.737413    0.646919  0.714087   \n",
       "SVM polinomico           0.581763      0.969755    0.546209  0.968954   \n",
       "SVM Kernel rbf           0.635863      0.843182    0.639810  0.829672   \n",
       "SVM Kernel Sigmoid       0.695011      0.676224    0.655213  0.641591   \n",
       "Random Forest d_20       0.527303      0.638112    0.574645  0.566416   \n",
       "Random Forest d_50       0.660156      0.811888    0.623223  0.801390   \n",
       "\n",
       "                      f1_dev  \n",
       "name                          \n",
       "Multinomial NB      0.541035  \n",
       "Bernoulli NB        0.600853  \n",
       "SVM lineal          0.614301  \n",
       "SVM polinomico      0.451297  \n",
       "SVM Kernel rbf      0.590291  \n",
       "SVM Kernel Sigmoid  0.618338  \n",
       "Random Forest d_20  0.468850  \n",
       "Random Forest d_50  0.560508  "
      ]
     },
     "execution_count": 11,
     "metadata": {},
     "output_type": "execute_result"
    }
   ],
   "source": [
    "def evaluation(model, name, X_train, y_train, X_dev, y_dev):\n",
    "    \"\"\"\n",
    "    Función de devuelve en un diccionario las métricas de evaluación de \n",
    "    Accuracy, Precision, Recall y F1 para los conjuntos de datos de entrenamiento y validación\n",
    "        model: modelo a evaluar\n",
    "        name: nombre del modelo\n",
    "        X_train: Variables de entrada del conjunto de datos de entrenamiento\n",
    "        y_train: Variable de salida del conjunto de datos de entrenamiento\n",
    "        X_dev: Variables de entrada del conjunto de datos de validación\n",
    "        y_dev: Variable de salida del conjunto de datos de validación\n",
    "        return: diccionario con el nombre del modelo y el valor de las métricas\n",
    "    \"\"\"\n",
    "    model_dict = {}\n",
    "    model_dict['name'] = name\n",
    "    y_pred_train = model.predict(X_train)\n",
    "    y_pred_dev = model.predict(X_dev)\n",
    "    model_dict['accuracy_train'] = accuracy_score(y_true=y_train, y_pred=y_pred_train)\n",
    "    model_dict['accuracy_dev'] = accuracy_score(y_true=y_dev, y_pred=y_pred_dev)\n",
    "    model_dict['precision_train'] = precision_score(y_true=y_train, y_pred=y_pred_train, average='weighted')\n",
    "    model_dict['precision_dev'] = precision_score(y_true=y_dev, y_pred=y_pred_dev, average='weighted')\n",
    "    model_dict['recall_train'] = recall_score(y_true=y_train, y_pred=y_pred_train, average='weighted')\n",
    "    model_dict['recall_dev'] = recall_score(y_true=y_dev, y_pred=y_pred_dev, average='weighted')\n",
    "    model_dict['f1_train'] = f1_score(y_true=y_train, y_pred=y_pred_train, average='weighted')\n",
    "    model_dict['f1_dev'] = f1_score(y_true=y_dev, y_pred=y_pred_dev, average='weighted')\n",
    "    \n",
    "    return model_dict\n",
    "\n",
    "# Calculamos las métricas de los modelos por separado\n",
    "evaluacion = list()\n",
    "for key, model in clasificadores.items():\n",
    "    evaluacion.append(evaluation(model=model, name=key, \n",
    "                                 X_train=X_train, y_train=y_train,\n",
    "                                 X_dev=X_dev, y_dev=y_dev\n",
    "                                 ))\n",
    "\n",
    "# Pasamos los resultados a un DataFrame para visualizarlos mejor\n",
    "df = pd.DataFrame.from_dict(evaluacion)\n",
    "df.set_index(\"name\", inplace=True)\n",
    "df"
   ]
  },
  {
   "cell_type": "code",
   "execution_count": 12,
   "metadata": {},
   "outputs": [
    {
     "data": {
      "image/png": "[encoded data removed]",
      "text/plain": [
       "<Figure size 2500x1200 with 4 Axes>"
      ]
     },
     "metadata": {},
     "output_type": "display_data"
    }
   ],
   "source": [
    "# Métricas a pintar\n",
    "METRICS = [\"accuracy\", \"precision\", \"recall\", \"f1\"]\n",
    "\n",
    "# Transformamos el dataframe para pintar las gráficas con seaborn\n",
    "df_plot = df.reset_index().melt(id_vars='name').rename(columns=str.title)\n",
    "\n",
    "plt.figure(figsize=(25, 12))\n",
    "pos = 1\n",
    "for metric in METRICS:\n",
    "    # Filtramos la métrica a pintar\n",
    "    df_aux = df_plot[df_plot['Variable'].str.contains(metric)]\n",
    "    \n",
    "    # Pintamos la gráfica en su posición 2x2\n",
    "    plt.subplot(2, 2, pos)\n",
    "    sns.barplot(x='Name', y='Value', hue='Variable', data=df_aux)\n",
    "    plt.title(metric.upper())\n",
    "    plt.grid()\n",
    "    plt.legend(bbox_to_anchor=(1.01, 1), loc=2, borderaxespad=0.)\n",
    "    plt.xticks(rotation=20)\n",
    "    pos += 1\n",
    "plt.show()\n"
   ]
  },
  {
   "cell_type": "markdown",
   "metadata": {},
   "source": [
    "# Elección de los mejores modelos y exportación en 'Pickle'"
   ]
  },
  {
   "cell_type": "code",
   "execution_count": 13,
   "metadata": {},
   "outputs": [
    {
     "data": {
      "text/html": [
       "<style>#sk-container-id-1 {color: black;}#sk-container-id-1 pre{padding: 0;}#sk-container-id-1 div.sk-toggleable {background-color: white;}#sk-container-id-1 label.sk-toggleable__label {cursor: pointer;display: block;width: 100%;margin-bottom: 0;padding: 0.3em;box-sizing: border-box;text-align: center;}#sk-container-id-1 label.sk-toggleable__label-arrow:before {content: \"▸\";float: left;margin-right: 0.25em;color: #696969;}#sk-container-id-1 label.sk-toggleable__label-arrow:hover:before {color: black;}#sk-container-id-1 div.sk-estimator:hover label.sk-toggleable__label-arrow:before {color: black;}#sk-container-id-1 div.sk-toggleable__content {max-height: 0;max-width: 0;overflow: hidden;text-align: left;background-color: #f0f8ff;}#sk-container-id-1 div.sk-toggleable__content pre {margin: 0.2em;color: black;border-radius: 0.25em;background-color: #f0f8ff;}#sk-container-id-1 input.sk-toggleable__control:checked~div.sk-toggleable__content {max-height: 200px;max-width: 100%;overflow: auto;}#sk-container-id-1 input.sk-toggleable__control:checked~label.sk-toggleable__label-arrow:before {content: \"▾\";}#sk-container-id-1 div.sk-estimator input.sk-toggleable__control:checked~label.sk-toggleable__label {background-color: #d4ebff;}#sk-container-id-1 div.sk-label input.sk-toggleable__control:checked~label.sk-toggleable__label {background-color: #d4ebff;}#sk-container-id-1 input.sk-hidden--visually {border: 0;clip: rect(1px 1px 1px 1px);clip: rect(1px, 1px, 1px, 1px);height: 1px;margin: -1px;overflow: hidden;padding: 0;position: absolute;width: 1px;}#sk-container-id-1 div.sk-estimator {font-family: monospace;background-color: #f0f8ff;border: 1px dotted black;border-radius: 0.25em;box-sizing: border-box;margin-bottom: 0.5em;}#sk-container-id-1 div.sk-estimator:hover {background-color: #d4ebff;}#sk-container-id-1 div.sk-parallel-item::after {content: \"\";width: 100%;border-bottom: 1px solid gray;flex-grow: 1;}#sk-container-id-1 div.sk-label:hover label.sk-toggleable__label {background-color: #d4ebff;}#sk-container-id-1 div.sk-serial::before {content: \"\";position: absolute;border-left: 1px solid gray;box-sizing: border-box;top: 0;bottom: 0;left: 50%;z-index: 0;}#sk-container-id-1 div.sk-serial {display: flex;flex-direction: column;align-items: center;background-color: white;padding-right: 0.2em;padding-left: 0.2em;position: relative;}#sk-container-id-1 div.sk-item {position: relative;z-index: 1;}#sk-container-id-1 div.sk-parallel {display: flex;align-items: stretch;justify-content: center;background-color: white;position: relative;}#sk-container-id-1 div.sk-item::before, #sk-container-id-1 div.sk-parallel-item::before {content: \"\";position: absolute;border-left: 1px solid gray;box-sizing: border-box;top: 0;bottom: 0;left: 50%;z-index: -1;}#sk-container-id-1 div.sk-parallel-item {display: flex;flex-direction: column;z-index: 1;position: relative;background-color: white;}#sk-container-id-1 div.sk-parallel-item:first-child::after {align-self: flex-end;width: 50%;}#sk-container-id-1 div.sk-parallel-item:last-child::after {align-self: flex-start;width: 50%;}#sk-container-id-1 div.sk-parallel-item:only-child::after {width: 0;}#sk-container-id-1 div.sk-dashed-wrapped {border: 1px dashed gray;margin: 0 0.4em 0.5em 0.4em;box-sizing: border-box;padding-bottom: 0.4em;background-color: white;}#sk-container-id-1 div.sk-label label {font-family: monospace;font-weight: bold;display: inline-block;line-height: 1.2em;}#sk-container-id-1 div.sk-label-container {text-align: center;}#sk-container-id-1 div.sk-container {/* jupyter's `normalize.less` sets `[hidden] { display: none; }` but bootstrap.min.css set `[hidden] { display: none !important; }` so we also need the `!important` here to be able to override the default hidden behavior on the sphinx rendered scikit-learn.org. See: https://github.com/scikit-learn/scikit-learn/issues/21755 */display: inline-block !important;position: relative;}#sk-container-id-1 div.sk-text-repr-fallback {display: none;}</style><div id=\"sk-container-id-1\" class=\"sk-top-container\"><div class=\"sk-text-repr-fallback\"><pre>RandomForestClassifier(max_depth=50, n_estimators=500, random_state=0)</pre><b>In a Jupyter environment, please rerun this cell to show the HTML representation or trust the notebook. <br />On GitHub, the HTML representation is unable to render, please try loading this page with nbviewer.org.</b></div><div class=\"sk-container\" hidden><div class=\"sk-item\"><div class=\"sk-estimator sk-toggleable\"><input class=\"sk-toggleable__control sk-hidden--visually\" id=\"sk-estimator-id-1\" type=\"checkbox\" checked><label for=\"sk-estimator-id-1\" class=\"sk-toggleable__label sk-toggleable__label-arrow\">RandomForestClassifier</label><div class=\"sk-toggleable__content\"><pre>RandomForestClassifier(max_depth=50, n_estimators=500, random_state=0)</pre></div></div></div></div></div>"
      ],
      "text/plain": [
       "RandomForestClassifier(max_depth=50, n_estimators=500, random_state=0)"
      ]
     },
     "execution_count": 13,
     "metadata": {},
     "output_type": "execute_result"
    }
   ],
   "source": [
    "# Creación de los modelos con todos los tweets\n",
    "\n",
    "model_1 = SVC(kernel='sigmoid')\n",
    "model_1.fit(X_train, y_train)\n",
    "\n",
    "model_2 = SVC(kernel='linear')\n",
    "model_2.fit(X_train, y_train)\n",
    "\n",
    "model_3 = SVC(kernel='rbf')\n",
    "model_3.fit(X_train, y_train)\n",
    "\n",
    "model_4 = RandomForestClassifier(n_estimators=500, bootstrap=True, criterion='gini', max_depth=50, random_state=0)\n",
    "model_4.fit(X_train, y_train)"
   ]
  },
  {
   "cell_type": "code",
   "execution_count": 14,
   "metadata": {},
   "outputs": [
    {
     "name": "stdout",
     "output_type": "stream",
     "text": [
      "Classification report model 1\n",
      "              precision    recall  f1-score   support\n",
      "\n",
      "       anger       0.71      0.38      0.49        85\n",
      "     disgust       1.00      0.06      0.12        16\n",
      "        fear       0.75      0.33      0.46         9\n",
      "         joy       0.63      0.40      0.49       181\n",
      "      others       0.63      0.92      0.75       414\n",
      "     sadness       0.93      0.60      0.73       104\n",
      "    surprise       1.00      0.03      0.06        35\n",
      "\n",
      "    accuracy                           0.66       844\n",
      "   macro avg       0.81      0.39      0.44       844\n",
      "weighted avg       0.70      0.66      0.62       844\n",
      "\n",
      "Classification report model 2\n"
     ]
    },
    {
     "name": "stdout",
     "output_type": "stream",
     "text": [
      "              precision    recall  f1-score   support\n",
      "\n",
      "       anger       0.68      0.35      0.47        85\n",
      "     disgust       1.00      0.06      0.12        16\n",
      "        fear       0.75      0.33      0.46         9\n",
      "         joy       0.60      0.41      0.49       181\n",
      "      others       0.62      0.90      0.74       414\n",
      "     sadness       0.87      0.60      0.71       104\n",
      "    surprise       1.00      0.09      0.16        35\n",
      "\n",
      "    accuracy                           0.65       844\n",
      "   macro avg       0.79      0.39      0.45       844\n",
      "weighted avg       0.68      0.65      0.61       844\n",
      "\n",
      "Classification report model 3\n",
      "              precision    recall  f1-score   support\n",
      "\n",
      "       anger       0.77      0.24      0.36        85\n",
      "     disgust       0.00      0.00      0.00        16\n",
      "        fear       1.00      0.11      0.20         9\n",
      "         joy       0.67      0.38      0.48       181\n",
      "      others       0.60      0.93      0.73       414\n",
      "     sadness       0.89      0.62      0.73       104\n",
      "    surprise       0.00      0.00      0.00        35\n",
      "\n",
      "    accuracy                           0.64       844\n",
      "   macro avg       0.56      0.32      0.36       844\n",
      "weighted avg       0.64      0.64      0.59       844\n",
      "\n",
      "Classification report model 4\n",
      "              precision    recall  f1-score   support\n",
      "\n",
      "       anger       1.00      0.16      0.28        85\n",
      "     disgust       1.00      0.06      0.12        16\n",
      "        fear       1.00      0.11      0.20         9\n",
      "         joy       0.70      0.29      0.41       181\n",
      "      others       0.59      0.95      0.73       414\n",
      "     sadness       0.71      0.62      0.66       104\n",
      "    surprise       0.00      0.00      0.00        35\n",
      "\n",
      "    accuracy                           0.62       844\n",
      "   macro avg       0.72      0.31      0.34       844\n",
      "weighted avg       0.66      0.62      0.56       844\n",
      "\n"
     ]
    }
   ],
   "source": [
    "#Obtenemos las métricas de los modelos con los propios datos de validación\n",
    "labels = ['anger', 'disgust', 'fear', 'joy', 'others', 'sadness', 'surprise']\n",
    "\n",
    "print('Classification report model 1')\n",
    "print(classification_report(y_true=y_dev, y_pred=model_1.predict(X_dev), labels=labels))\n",
    "print('Classification report model 2')\n",
    "print(classification_report(y_true=y_dev, y_pred=model_2.predict(X_dev), labels=labels))\n",
    "print('Classification report model 3')\n",
    "print(classification_report(y_true=y_dev, y_pred=model_3.predict(X_dev), labels=labels))\n",
    "print('Classification report model 4')\n",
    "print(classification_report(y_true=y_dev, y_pred=model_4.predict(X_dev), labels=labels))"
   ]
  },
  {
   "cell_type": "markdown",
   "metadata": {},
   "source": [
    "## Exportación de los modelos Pickle y la Bolsa de Palabras"
   ]
  },
  {
   "cell_type": "code",
   "execution_count": 15,
   "metadata": {},
   "outputs": [],
   "source": [
    "#Exportamos los modelos generados por el Algoritmo de Aprendizaje.\n",
    "\n",
    "filename = './models/model_1_tweets.pickle'\n",
    "save_model_1 = open(filename,\"wb\")\n",
    "pickle.dump(model_1, save_model_1)\n",
    "save_model_1.close()\n",
    "\n",
    "filename = './models/model_2_tweets.pickle'\n",
    "save_model_2 = open(filename,\"wb\")\n",
    "pickle.dump(model_2, save_model_2) \n",
    "save_model_2.close()\n",
    "\n",
    "filename = './models/model_3_tweets.pickle'\n",
    "save_model_3 = open(filename,\"wb\")\n",
    "pickle.dump(model_3, save_model_3) \n",
    "save_model_3.close()\n",
    "\n",
    "filename = './models/model_4_tweets.pickle'\n",
    "save_model_4 = open(filename,\"wb\")\n",
    "pickle.dump(model_4, save_model_4)\n",
    "save_model_4.close()"
   ]
  },
  {
   "cell_type": "code",
   "execution_count": 16,
   "metadata": {},
   "outputs": [],
   "source": [
    "#Exportar la *Bolsa de Palabras* generada por la clase *TfidfVectorizer*.\n",
    "\n",
    "filename = './models/vectorizer_bow_tweets.pickle'\n",
    "save_bow = open(filename,\"wb\")\n",
    "pickle.dump(vectorizer, save_bow)\n",
    "save_bow.close()"
   ]
  },
  {
   "cell_type": "code",
   "execution_count": null,
   "metadata": {},
   "outputs": [],
   "source": []
  }
 ],
 "metadata": {
  "kernelspec": {
   "display_name": "base",
   "language": "python",
   "name": "python3"
  },
  "language_info": {
   "codemirror_mode": {
    "name": "ipython",
    "version": 3
   },
   "file_extension": ".py",
   "mimetype": "text/x-python",
   "name": "python",
   "nbconvert_exporter": "python",
   "pygments_lexer": "ipython3",
   "version": "3.11.5"
  }
 },
 "nbformat": 4,
 "nbformat_minor": 2
}
