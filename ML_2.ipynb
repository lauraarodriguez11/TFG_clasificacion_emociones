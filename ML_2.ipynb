{
 "cells": [
  {
   "cell_type": "code",
   "execution_count": 6,
   "metadata": {},
   "outputs": [],
   "source": [
    "# Tratamiento de datos\n",
    "# ==============================================================================\n",
    "import pandas as pd\n",
    "import numpy as np\n",
    "import re, spacy\n",
    "from tqdm import tqdm\n",
    "nlp = spacy.load('es_core_news_sm')\n",
    "import emoji\n",
    "\n",
    "# Gráficos\n",
    "# ==============================================================================\n",
    "import matplotlib.pyplot as plt\n",
    "#import seaborn as sns\n",
    "import itertools\n",
    "\n",
    "# Preprocesado y modelado\n",
    "# ==============================================================================\n",
    "from sklearn.feature_extraction.text import TfidfVectorizer\n",
    "from sklearn.naive_bayes import MultinomialNB, BernoulliNB\n",
    "from sklearn.svm import SVC\n",
    "from sklearn.ensemble import RandomForestClassifier\n",
    "\n",
    "# Benchmark\n",
    "# ==============================================================================\n",
    "from sklearn.metrics import accuracy_score, f1_score, precision_score, recall_score\n",
    "from sklearn.metrics import classification_report, confusion_matrix\n",
    "\n",
    "# Configuración warnings\n",
    "# ==============================================================================\n",
    "import warnings\n",
    "warnings.filterwarnings('ignore')\n",
    "\n",
    "# Exportación e importación \n",
    "# ==============================================================================\n",
    "import pickle"
   ]
  },
  {
   "cell_type": "markdown",
   "metadata": {},
   "source": [
    "### Importamos los modelos"
   ]
  },
  {
   "cell_type": "code",
   "execution_count": 7,
   "metadata": {},
   "outputs": [],
   "source": [
    "#Importamos los modelos para la clasificación\n",
    "\n",
    "filename = './models/model_1_tweets.pickle'\n",
    "classifier_model_1 = pickle.load(open(filename, 'rb'))\n",
    "\n",
    "filename = './models/model_2_tweets.pickle'\n",
    "classifier_model_2 = pickle.load(open(filename, 'rb'))\n",
    "\n",
    "filename = './models/model_3_tweets.pickle'\n",
    "classifier_model_3 = pickle.load(open(filename, 'rb'))\n",
    "\n",
    "filename = './models/model_4_tweets.pickle'\n",
    "classifier_model_4 = pickle.load(open(filename, 'rb'))\n",
    "\n",
    "#Importamos el modelo para crear la Bolsa de Palabras\n",
    "\n",
    "filename = './models/vectorizer_bow_tweets.pickle'\n",
    "classifier_model = pickle.load(open(filename, 'rb'))"
   ]
  },
  {
   "cell_type": "markdown",
   "metadata": {},
   "source": [
    "### Creamos la Bolsa de Palabras"
   ]
  },
  {
   "cell_type": "code",
   "execution_count": 8,
   "metadata": {},
   "outputs": [],
   "source": [
    "filename = './models/normalized_test_tweets_string.pickle'\n",
    "X_norm_test = pickle.load(open(filename, 'rb'))\n",
    "\n",
    "filename = './models/gold_test_string.pickle'\n",
    "y_test = pickle.load(open(filename, 'rb'))\n",
    "\n",
    "X_test = [doc[0] for doc in X_norm_test]\n",
    "vectorizer = TfidfVectorizer(max_features=1500)\n",
    "vectorizer.fit(X_test)\n",
    "X_test = vectorizer.transform(X_test) "
   ]
  },
  {
   "cell_type": "markdown",
   "metadata": {},
   "source": [
    "### Predicción"
   ]
  },
  {
   "cell_type": "code",
   "execution_count": 9,
   "metadata": {},
   "outputs": [],
   "source": [
    "predictions_1 = classifier_model_1.predict(X_test)\n",
    "predictions_2 = classifier_model_2.predict(X_test)\n",
    "predictions_3 = classifier_model_3.predict(X_test)\n",
    "predictions_4 = classifier_model_4.predict(X_test)\n",
    "\n",
    "labels = ['anger', 'disgust', 'fear', 'joy', 'others', 'sadness', 'surprise']"
   ]
  },
  {
   "cell_type": "code",
   "execution_count": 10,
   "metadata": {},
   "outputs": [
    {
     "name": "stdout",
     "output_type": "stream",
     "text": [
      "Classification report model 1\n",
      "              precision    recall  f1-score   support\n",
      "\n",
      "       anger       0.12      0.06      0.08       168\n",
      "     disgust       0.00      0.00      0.00        33\n",
      "        fear       0.00      0.00      0.00        21\n",
      "         joy       0.23      0.08      0.12       354\n",
      "      others       0.49      0.85      0.62       814\n",
      "     sadness       0.16      0.03      0.05       199\n",
      "    surprise       0.00      0.00      0.00        67\n",
      "\n",
      "    accuracy                           0.45      1656\n",
      "   macro avg       0.14      0.15      0.13      1656\n",
      "weighted avg       0.32      0.45      0.35      1656\n",
      "\n",
      "Classification report model 2\n",
      "              precision    recall  f1-score   support\n",
      "\n",
      "       anger       0.10      0.05      0.07       168\n",
      "     disgust       0.00      0.00      0.00        33\n",
      "        fear       0.00      0.00      0.00        21\n",
      "         joy       0.23      0.09      0.13       354\n",
      "      others       0.49      0.83      0.62       814\n",
      "     sadness       0.13      0.03      0.05       199\n",
      "    surprise       0.00      0.00      0.00        67\n",
      "\n",
      "    accuracy                           0.44      1656\n",
      "   macro avg       0.14      0.14      0.12      1656\n",
      "weighted avg       0.32      0.44      0.34      1656\n",
      "\n",
      "Classification report model 3\n",
      "              precision    recall  f1-score   support\n",
      "\n",
      "       anger       0.20      0.02      0.03       168\n",
      "     disgust       0.00      0.00      0.00        33\n",
      "        fear       0.00      0.00      0.00        21\n",
      "         joy       0.06      0.01      0.01       354\n",
      "      others       0.49      0.96      0.65       814\n",
      "     sadness       0.21      0.02      0.03       199\n",
      "    surprise       0.00      0.00      0.00        67\n",
      "\n",
      "    accuracy                           0.48      1656\n",
      "   macro avg       0.14      0.14      0.10      1656\n",
      "weighted avg       0.30      0.48      0.33      1656\n",
      "\n",
      "Classification report model 4\n",
      "              precision    recall  f1-score   support\n",
      "\n",
      "       anger       0.12      0.01      0.01       168\n",
      "     disgust       0.00      0.00      0.00        33\n",
      "        fear       0.00      0.00      0.00        21\n",
      "         joy       0.13      0.01      0.02       354\n",
      "      others       0.49      0.96      0.65       814\n",
      "     sadness       0.12      0.02      0.03       199\n",
      "    surprise       0.00      0.00      0.00        67\n",
      "\n",
      "    accuracy                           0.48      1656\n",
      "   macro avg       0.12      0.14      0.10      1656\n",
      "weighted avg       0.30      0.48      0.33      1656\n",
      "\n"
     ]
    }
   ],
   "source": [
    "#Obtenemos las métricas de rendimiento de los modelos con los datos de prueba\n",
    "\n",
    "print('Classification report model 1')\n",
    "print(classification_report(y_true=y_test, y_pred=predictions_1, labels=labels))\n",
    "print('Classification report model 2')\n",
    "print(classification_report(y_true=y_test, y_pred=predictions_2, labels=labels))\n",
    "print('Classification report model 3')\n",
    "print(classification_report(y_true=y_test, y_pred=predictions_3, labels=labels))\n",
    "print('Classification report model 4')\n",
    "print(classification_report(y_true=y_test, y_pred=predictions_4, labels=labels))"
   ]
  }
 ],
 "metadata": {
  "kernelspec": {
   "display_name": "base",
   "language": "python",
   "name": "python3"
  },
  "language_info": {
   "codemirror_mode": {
    "name": "ipython",
    "version": 3
   },
   "file_extension": ".py",
   "mimetype": "text/x-python",
   "name": "python",
   "nbconvert_exporter": "python",
   "pygments_lexer": "ipython3",
   "version": "3.11.5"
  }
 },
 "nbformat": 4,
 "nbformat_minor": 2
}
